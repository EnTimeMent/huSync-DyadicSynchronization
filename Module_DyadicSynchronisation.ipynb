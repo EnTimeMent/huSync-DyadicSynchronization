{
 "cells": [
  {
   "cell_type": "markdown",
   "metadata": {},
   "source": [
    "# Computation of Dyadic Synchronization"
   ]
  },
  {
   "cell_type": "markdown",
   "metadata": {},
   "source": [
    "### Import essential libraries"
   ]
  },
  {
   "cell_type": "code",
   "execution_count": 3,
   "metadata": {},
   "outputs": [],
   "source": [
    "import pandas as pd\n",
    "import numpy as np\n",
    "import matplotlib.pyplot as plt\n",
    "from scipy import pi #Used for some experimentation purposes\n",
    "from scipy.fftpack import fft\n",
    "import seaborn as sns\n",
    "from tslearn.metrics import dtw, dtw_path\n",
    "import scipy.signal\n",
    "from cmath import rect,pi"
   ]
  },
  {
   "cell_type": "markdown",
   "metadata": {},
   "source": [
    "### Read the .csv file created"
   ]
  },
  {
   "cell_type": "code",
   "execution_count": 4,
   "metadata": {},
   "outputs": [],
   "source": [
    "data=pd.read_csv('./BrahmsConcertPart1/Keypoint Data/BrahmsConcertPart1_File5.csv',index_col=0)"
   ]
  },
  {
   "cell_type": "markdown",
   "metadata": {},
   "source": [
    "## Create duplicate of data"
   ]
  },
  {
   "cell_type": "code",
   "execution_count": 5,
   "metadata": {},
   "outputs": [],
   "source": [
    "df=data.copy()"
   ]
  },
  {
   "cell_type": "markdown",
   "metadata": {},
   "source": [
    "## To be used when computing for the three parts"
   ]
  },
  {
   "cell_type": "code",
   "execution_count": 106,
   "metadata": {},
   "outputs": [],
   "source": [
    "first, second, third = np.split(df, [int((1/3)*len(df)), int((2/3)*len(df))])\n",
    "first.reset_index(drop=True,inplace=True)\n",
    "second.reset_index(drop=True,inplace=True)\n",
    "third.reset_index(drop=True,inplace=True)"
   ]
  },
  {
   "cell_type": "markdown",
   "metadata": {},
   "source": [
    "##### To be chosen based on experiment. If experimenting for the entire phrase, skip."
   ]
  },
  {
   "cell_type": "code",
   "execution_count": 107,
   "metadata": {},
   "outputs": [],
   "source": [
    "df=first"
   ]
  },
  {
   "cell_type": "code",
   "execution_count": 116,
   "metadata": {},
   "outputs": [],
   "source": [
    "df=second"
   ]
  },
  {
   "cell_type": "code",
   "execution_count": 125,
   "metadata": {},
   "outputs": [],
   "source": [
    "df=third"
   ]
  },
  {
   "cell_type": "markdown",
   "metadata": {},
   "source": [
    "##### Time under observation"
   ]
  },
  {
   "cell_type": "code",
   "execution_count": 6,
   "metadata": {},
   "outputs": [
    {
     "data": {
      "text/plain": [
       "19.288135593220503"
      ]
     },
     "execution_count": 6,
     "metadata": {},
     "output_type": "execute_result"
    }
   ],
   "source": [
    "df['t'].max()"
   ]
  },
  {
   "cell_type": "markdown",
   "metadata": {},
   "source": [
    "#### To be edited here before experiments: Window size (Difference between a & b) and Shift"
   ]
  },
  {
   "cell_type": "code",
   "execution_count": 7,
   "metadata": {},
   "outputs": [],
   "source": [
    "d={}\n",
    "a=0\n",
    "b=149\n",
    "shift=15\n",
    "count=1\n",
    "count_start=a+b+1\n",
    "count_for_window=count_start\n",
    "while(count_start!=len(df)):\n",
    "\n",
    "    count+=1\n",
    "    count_start+=shift\n",
    "\n",
    "for i in range(count):\n",
    "    df1=df.loc[a:b]\n",
    "    d[\"group\"+str(i)]=df1\n",
    "    a+=shift\n",
    "    b+=shift"
   ]
  },
  {
   "cell_type": "markdown",
   "metadata": {},
   "source": [
    "#### Window Size"
   ]
  },
  {
   "cell_type": "code",
   "execution_count": 8,
   "metadata": {
    "scrolled": true
   },
   "outputs": [
    {
     "data": {
      "text/plain": [
       "29"
      ]
     },
     "execution_count": 8,
     "metadata": {},
     "output_type": "execute_result"
    }
   ],
   "source": [
    "count"
   ]
  },
  {
   "cell_type": "markdown",
   "metadata": {},
   "source": [
    "#### Functions for processing data"
   ]
  },
  {
   "cell_type": "code",
   "execution_count": 9,
   "metadata": {},
   "outputs": [],
   "source": [
    "def getWindowData(a):\n",
    "    pct={}\n",
    "    for i in range(count):\n",
    "        pct['window'+str(i)]=d['group'+str(i)][[a,'t']]\n",
    "    return pct"
   ]
  },
  {
   "cell_type": "code",
   "execution_count": 10,
   "metadata": {},
   "outputs": [],
   "source": [
    "def getFFT(a):\n",
    "    N=len(a)\n",
    "    sample_rate=30\n",
    "    waveform=np.array(a)\n",
    "    freq_data = fft(waveform)\n",
    "    y = (2/N) * np.abs (freq_data [0:np.int (N/2)])\n",
    "    y_angle= np.angle(freq_data,deg=False)\n",
    "    y_ampl= np.abs(freq_data)\n",
    "    df_pct_ang_amp=pd.DataFrame({'Angle':y_angle,'Amplitude':y_ampl})\n",
    "    return df_pct_ang_amp"
   ]
  },
  {
   "cell_type": "code",
   "execution_count": 11,
   "metadata": {},
   "outputs": [],
   "source": [
    "def getFFTDict(pct,pct_data):\n",
    "    #person1/person2 are participants\n",
    "    #person1_aa is participant angle and amplitude data of person1 and likewise for person2_aa\n",
    "    dict_paa={}\n",
    "    for i in range(count):\n",
    "        df=getFFT(pct_data['window'+str(i)][pct+'_d'])\n",
    "        dict_paa['window'+str(i)]=df\n",
    "    return dict_paa"
   ]
  },
  {
   "cell_type": "code",
   "execution_count": 12,
   "metadata": {},
   "outputs": [],
   "source": [
    "def rel_angle(l1,l2):\n",
    "    rel_angledict={}\n",
    "    for i in range(count):\n",
    "        rel_anglex=l1['window'+str(i)]['Angle']-l2['window'+str(i)]['Angle']\n",
    "        rel_angledict['window'+str(i)]=rel_anglex\n",
    "    return rel_angledict"
   ]
  },
  {
   "cell_type": "markdown",
   "metadata": {},
   "source": [
    "##### Automated - Set limits to 1:51 for a window size of 150 and 1:11 for a window size of 30"
   ]
  },
  {
   "cell_type": "code",
   "execution_count": 15,
   "metadata": {},
   "outputs": [
    {
     "name": "stdout",
     "output_type": "stream",
     "text": [
      "Dyadic Synchronization between  c1  and  c2 : 0.44341003967654846\n",
      "Dyadic Synchronization between  c1  and  c3 : 0.41628189678901883\n",
      "Dyadic Synchronization between  c1  and  c4 : 0.43298126623339944\n",
      "Dyadic Synchronization between  c1  and  c5 : 0.42757835442712\n",
      "Dyadic Synchronization between  c2  and  c3 : 0.41511063040380936\n",
      "Dyadic Synchronization between  c2  and  c4 : 0.34887861976951406\n",
      "Dyadic Synchronization between  c2  and  c5 : 0.41859387292646766\n",
      "Dyadic Synchronization between  c3  and  c4 : 0.272738366600198\n",
      "Dyadic Synchronization between  c3  and  c5 : 0.2958538461901187\n",
      "Dyadic Synchronization between  c4  and  c5 : 0.3393011973081942\n"
     ]
    }
   ],
   "source": [
    "for i in range(5):\n",
    "    for j in range(5):\n",
    "        participant1='c'+str(i+1)\n",
    "        participant2='c'+str(j+1)\n",
    "        if ((participant1!=participant2)&(j>i)):\n",
    "            person1=getWindowData(participant1+'_d')\n",
    "            person2=getWindowData(participant2+'_d')\n",
    "            person1_aa=getFFTDict(participant1,person1)\n",
    "            person2_aa=getFFTDict(participant2,person2)\n",
    "\n",
    "            x=rel_angle(person1_aa,person2_aa)\n",
    "\n",
    "            plv_results={}\n",
    "\n",
    "            for k in range(count_for_window):\n",
    "                my_list = [elem[k] for elem in x.values()]\n",
    "                rel_amp=[1]*len(my_list)\n",
    "                rel_sum = [x for x in map(rect,rel_amp,my_list)]\n",
    "                plv_results[str(k)]=abs(sum(rel_sum))/(len(rel_sum))\n",
    "\n",
    "            plv_results1=list(plv_results.values())\n",
    "#             print((sum(plv_results1[1:11])/len(plv_results1[1:11])))\n",
    "            print(\"Dyadic Synchronization between \",participant1,\" and \",participant2,\":\",(sum(plv_results1[1:11])/len(plv_results1[1:11])))"
   ]
  },
  {
   "cell_type": "markdown",
   "metadata": {},
   "source": [
    "##### For Manual execution. Can Skip"
   ]
  },
  {
   "cell_type": "code",
   "execution_count": 34,
   "metadata": {},
   "outputs": [],
   "source": [
    "participant1='c1'\n",
    "participant2='c2'\n",
    "\n",
    "person1=getWindowData(participant1+'_d')\n",
    "person2=getWindowData(participant2+'_d')\n",
    "\n",
    "person1_aa=getFFTDict(participant1,person1)\n",
    "person2_aa=getFFTDict(participant2,person2)\n",
    "\n",
    "x=rel_angle(person1_aa,person2_aa)\n",
    "\n",
    "plv_results={}\n",
    "\n",
    "for i in range(150):\n",
    "    my_list = [elem[i] for elem in x.values()]\n",
    "    rel_amp=[1]*len(my_list)\n",
    "    rel_sum = [x for x in map(rect,rel_amp,my_list)]\n",
    "    plv_results[str(i)]=abs(sum(rel_sum))/(len(rel_sum))\n",
    "\n",
    "plv_results1=list(plv_results.values())"
   ]
  },
  {
   "cell_type": "code",
   "execution_count": 35,
   "metadata": {},
   "outputs": [
    {
     "data": {
      "text/plain": [
       "29"
      ]
     },
     "execution_count": 35,
     "metadata": {},
     "output_type": "execute_result"
    }
   ],
   "source": [
    "len(my_list)"
   ]
  },
  {
   "cell_type": "code",
   "execution_count": 36,
   "metadata": {},
   "outputs": [
    {
     "data": {
      "text/plain": [
       "{'window0': 0      0.000000\n",
       " 1     -4.374689\n",
       " 2     -0.692991\n",
       " 3      4.147685\n",
       " 4     -1.321356\n",
       "          ...   \n",
       " 145    1.381419\n",
       " 146    1.321356\n",
       " 147   -4.147685\n",
       " 148    0.692991\n",
       " 149    4.374689\n",
       " Name: Angle, Length: 150, dtype: float64,\n",
       " 'window1': 0      0.000000\n",
       " 1     -4.655705\n",
       " 2     -2.062443\n",
       " 3     -3.103837\n",
       " 4     -0.534293\n",
       "          ...   \n",
       " 145    1.858598\n",
       " 146    0.534293\n",
       " 147    3.103837\n",
       " 148    2.062443\n",
       " 149    4.655705\n",
       " Name: Angle, Length: 150, dtype: float64,\n",
       " 'window2': 0      0.000000\n",
       " 1      1.338976\n",
       " 2     -2.722491\n",
       " 3     -2.424151\n",
       " 4     -1.168734\n",
       "          ...   \n",
       " 145    1.412041\n",
       " 146    1.168734\n",
       " 147    2.424151\n",
       " 148    2.722491\n",
       " 149   -1.338976\n",
       " Name: Angle, Length: 150, dtype: float64,\n",
       " 'window3': 0      0.000000\n",
       " 1      1.007631\n",
       " 2     -4.143112\n",
       " 3      4.190837\n",
       " 4     -1.191984\n",
       "          ...   \n",
       " 145    1.393644\n",
       " 146    1.191984\n",
       " 147   -4.190837\n",
       " 148    4.143112\n",
       " 149   -1.007631\n",
       " Name: Angle, Length: 150, dtype: float64,\n",
       " 'window4': 0      0.000000\n",
       " 1      0.751564\n",
       " 2      2.170232\n",
       " 3     -2.471587\n",
       " 4     -5.501198\n",
       "          ...   \n",
       " 145    0.256415\n",
       " 146    5.501198\n",
       " 147    2.471587\n",
       " 148   -2.170232\n",
       " 149   -0.751564\n",
       " Name: Angle, Length: 150, dtype: float64,\n",
       " 'window5': 0      0.000000\n",
       " 1      0.748516\n",
       " 2      3.665035\n",
       " 3     -3.505316\n",
       " 4      0.225397\n",
       "          ...   \n",
       " 145    0.526805\n",
       " 146   -0.225397\n",
       " 147    3.505316\n",
       " 148   -3.665035\n",
       " 149   -0.748516\n",
       " Name: Angle, Length: 150, dtype: float64,\n",
       " 'window6': 0      0.000000\n",
       " 1      0.647839\n",
       " 2     -2.114449\n",
       " 3      2.093854\n",
       " 4      0.239658\n",
       "          ...   \n",
       " 145   -5.381966\n",
       " 146   -0.239658\n",
       " 147   -2.093854\n",
       " 148    2.114449\n",
       " 149   -0.647839\n",
       " Name: Angle, Length: 150, dtype: float64,\n",
       " 'window7': 0      0.000000\n",
       " 1      1.048359\n",
       " 2     -2.864494\n",
       " 3      1.857278\n",
       " 4      5.331886\n",
       "          ...   \n",
       " 145   -2.711647\n",
       " 146   -5.331886\n",
       " 147   -1.857278\n",
       " 148    2.864494\n",
       " 149   -1.048359\n",
       " Name: Angle, Length: 150, dtype: float64,\n",
       " 'window8': 0      0.000000\n",
       " 1      2.738324\n",
       " 2      3.193996\n",
       " 3     -4.336540\n",
       " 4     -0.685233\n",
       "          ...   \n",
       " 145    3.193781\n",
       " 146    0.685233\n",
       " 147    4.336540\n",
       " 148   -3.193996\n",
       " 149   -2.738324\n",
       " Name: Angle, Length: 150, dtype: float64,\n",
       " 'window9': 0      0.000000\n",
       " 1      3.083919\n",
       " 2      2.918134\n",
       " 3      2.292439\n",
       " 4     -0.892713\n",
       "          ...   \n",
       " 145   -3.493624\n",
       " 146    0.892713\n",
       " 147   -2.292439\n",
       " 148   -2.918134\n",
       " 149   -3.083919\n",
       " Name: Angle, Length: 150, dtype: float64,\n",
       " 'window10': 0      0.000000\n",
       " 1      1.246180\n",
       " 2      2.121220\n",
       " 3      0.718868\n",
       " 4     -0.883060\n",
       "          ...   \n",
       " 145    4.814554\n",
       " 146    0.883060\n",
       " 147   -0.718868\n",
       " 148   -2.121220\n",
       " 149   -1.246180\n",
       " Name: Angle, Length: 150, dtype: float64,\n",
       " 'window11': 0      0.000000\n",
       " 1      1.571426\n",
       " 2     -3.643058\n",
       " 3      2.320213\n",
       " 4     -0.547666\n",
       "          ...   \n",
       " 145   -0.169743\n",
       " 146    0.547666\n",
       " 147   -2.320213\n",
       " 148    3.643058\n",
       " 149   -1.571426\n",
       " Name: Angle, Length: 150, dtype: float64,\n",
       " 'window12': 0      0.000000\n",
       " 1      1.575235\n",
       " 2     -3.030064\n",
       " 3     -3.390310\n",
       " 4     -0.763576\n",
       "          ...   \n",
       " 145    6.087205\n",
       " 146    0.763576\n",
       " 147    3.390310\n",
       " 148    3.030064\n",
       " 149   -1.575235\n",
       " Name: Angle, Length: 150, dtype: float64,\n",
       " 'window13': 0      0.000000\n",
       " 1      2.004656\n",
       " 2     -2.471966\n",
       " 3     -2.522079\n",
       " 4     -1.141874\n",
       "          ...   \n",
       " 145    0.728845\n",
       " 146    1.141874\n",
       " 147    2.522079\n",
       " 148    2.471966\n",
       " 149   -2.004656\n",
       " Name: Angle, Length: 150, dtype: float64,\n",
       " 'window14': 0      0.000000\n",
       " 1     -3.974028\n",
       " 2      3.657048\n",
       " 3      2.349910\n",
       " 4     -1.004880\n",
       "          ...   \n",
       " 145    0.480132\n",
       " 146    1.004880\n",
       " 147   -2.349910\n",
       " 148   -3.657048\n",
       " 149    3.974028\n",
       " Name: Angle, Length: 150, dtype: float64,\n",
       " 'window15': 0      0.000000\n",
       " 1     -3.430944\n",
       " 2      1.938333\n",
       " 3     -3.327699\n",
       " 4      5.552198\n",
       "          ...   \n",
       " 145    1.216466\n",
       " 146   -5.552198\n",
       " 147    3.327699\n",
       " 148   -1.938333\n",
       " 149    3.430944\n",
       " Name: Angle, Length: 150, dtype: float64,\n",
       " 'window16': 0      0.000000\n",
       " 1     -3.476732\n",
       " 2     -4.311016\n",
       " 3      2.939636\n",
       " 4     -1.022406\n",
       "          ...   \n",
       " 145    1.548705\n",
       " 146    1.022406\n",
       " 147   -2.939636\n",
       " 148    4.311016\n",
       " 149    3.476732\n",
       " Name: Angle, Length: 150, dtype: float64,\n",
       " 'window17': 0      0.000000\n",
       " 1     -4.018712\n",
       " 2     -4.928002\n",
       " 3      3.575737\n",
       " 4      0.504554\n",
       "          ...   \n",
       " 145    0.954693\n",
       " 146   -0.504554\n",
       " 147   -3.575737\n",
       " 148    4.928002\n",
       " 149    4.018712\n",
       " Name: Angle, Length: 150, dtype: float64,\n",
       " 'window18': 0      0.000000\n",
       " 1      2.323002\n",
       " 2      1.004115\n",
       " 3     -2.516714\n",
       " 4      0.681636\n",
       "          ...   \n",
       " 145   -5.498498\n",
       " 146   -0.681636\n",
       " 147    2.516714\n",
       " 148   -1.004115\n",
       " 149   -2.323002\n",
       " Name: Angle, Length: 150, dtype: float64,\n",
       " 'window19': 0      0.000000\n",
       " 1      2.404526\n",
       " 2      1.773516\n",
       " 3      3.815221\n",
       " 4      1.959296\n",
       "          ...   \n",
       " 145    1.069641\n",
       " 146   -1.959296\n",
       " 147   -3.815221\n",
       " 148   -1.773516\n",
       " 149   -2.404526\n",
       " Name: Angle, Length: 150, dtype: float64,\n",
       " 'window20': 0      0.000000\n",
       " 1      2.414673\n",
       " 2      2.200264\n",
       " 3     -1.419227\n",
       " 4      2.258048\n",
       "          ...   \n",
       " 145   -4.675002\n",
       " 146   -2.258048\n",
       " 147    1.419227\n",
       " 148   -2.200264\n",
       " 149   -2.414673\n",
       " Name: Angle, Length: 150, dtype: float64,\n",
       " 'window21': 0      0.000000\n",
       " 1      3.008512\n",
       " 2     -0.043973\n",
       " 3     -0.849658\n",
       " 4      3.299609\n",
       "          ...   \n",
       " 145    0.431360\n",
       " 146   -3.299609\n",
       " 147    0.849658\n",
       " 148    0.043973\n",
       " 149   -3.008512\n",
       " Name: Angle, Length: 150, dtype: float64,\n",
       " 'window22': 0      0.000000\n",
       " 1      2.535522\n",
       " 2      1.085074\n",
       " 3      3.933574\n",
       " 4     -2.679559\n",
       "          ...   \n",
       " 145    0.658877\n",
       " 146    2.679559\n",
       " 147   -3.933574\n",
       " 148   -1.085074\n",
       " 149   -2.535522\n",
       " Name: Angle, Length: 150, dtype: float64,\n",
       " 'window23': 0      0.000000\n",
       " 1      2.037410\n",
       " 2      1.178547\n",
       " 3      3.499055\n",
       " 4     -2.429970\n",
       "          ...   \n",
       " 145    0.026853\n",
       " 146    2.429970\n",
       " 147   -3.499055\n",
       " 148   -1.178547\n",
       " 149   -2.037410\n",
       " Name: Angle, Length: 150, dtype: float64,\n",
       " 'window24': 0      0.000000\n",
       " 1      1.379159\n",
       " 2      0.718172\n",
       " 3     -0.979104\n",
       " 4      3.319561\n",
       "          ...   \n",
       " 145   -0.720269\n",
       " 146   -3.319561\n",
       " 147    0.979104\n",
       " 148   -0.718172\n",
       " 149   -1.379159\n",
       " Name: Angle, Length: 150, dtype: float64,\n",
       " 'window25': 0      0.000000\n",
       " 1      0.612020\n",
       " 2     -0.395306\n",
       " 3      4.444721\n",
       " 4      0.341149\n",
       "          ...   \n",
       " 145   -5.127745\n",
       " 146   -0.341149\n",
       " 147   -4.444721\n",
       " 148    0.395306\n",
       " 149   -0.612020\n",
       " Name: Angle, Length: 150, dtype: float64,\n",
       " 'window26': 0      0.000000\n",
       " 1     -0.145457\n",
       " 2      5.463218\n",
       " 3      4.656237\n",
       " 4      3.345565\n",
       "          ...   \n",
       " 145   -3.369684\n",
       " 146   -3.345565\n",
       " 147   -4.656237\n",
       " 148   -5.463218\n",
       " 149    0.145457\n",
       " Name: Angle, Length: 150, dtype: float64,\n",
       " 'window27': 0      0.000000\n",
       " 1     -0.149140\n",
       " 2     -0.488904\n",
       " 3     -1.869420\n",
       " 4     -2.266141\n",
       "          ...   \n",
       " 145   -0.418943\n",
       " 146    2.266141\n",
       " 147    1.869420\n",
       " 148    0.488904\n",
       " 149    0.149140\n",
       " Name: Angle, Length: 150, dtype: float64,\n",
       " 'window28': 0      0.000000\n",
       " 1     -0.492064\n",
       " 2     -0.026263\n",
       " 3     -2.282783\n",
       " 4      4.093322\n",
       "          ...   \n",
       " 145   -0.948745\n",
       " 146   -4.093322\n",
       " 147    2.282783\n",
       " 148    0.026263\n",
       " 149    0.492064\n",
       " Name: Angle, Length: 150, dtype: float64}"
      ]
     },
     "execution_count": 36,
     "metadata": {},
     "output_type": "execute_result"
    }
   ],
   "source": [
    "x"
   ]
  },
  {
   "cell_type": "code",
   "execution_count": 37,
   "metadata": {},
   "outputs": [
    {
     "data": {
      "text/plain": [
       "[4.374689011794249,\n",
       " 4.655705289333376,\n",
       " -1.338975957381278,\n",
       " -1.0076310192506717,\n",
       " -0.7515639677062651,\n",
       " -0.7485155781080471,\n",
       " -0.6478387107108058,\n",
       " -1.0483593404345177,\n",
       " -2.738323662441876,\n",
       " -3.0839193983629403,\n",
       " -1.246179597316803,\n",
       " -1.571425509269092,\n",
       " -1.5752353229766982,\n",
       " -2.004655906952301,\n",
       " 3.9740280811744637,\n",
       " 3.4309440445319286,\n",
       " 3.476731914453704,\n",
       " 4.018712092206263,\n",
       " -2.32300244617337,\n",
       " -2.404525700721151,\n",
       " -2.414672844995825,\n",
       " -3.008512422850212,\n",
       " -2.535522249392646,\n",
       " -2.0374098463602013,\n",
       " -1.3791594525993895,\n",
       " -0.6120203690940884,\n",
       " 0.14545659987419057,\n",
       " 0.14914017725615025,\n",
       " 0.49206401914212483]"
      ]
     },
     "execution_count": 37,
     "metadata": {},
     "output_type": "execute_result"
    }
   ],
   "source": [
    "my_list"
   ]
  },
  {
   "cell_type": "code",
   "execution_count": 25,
   "metadata": {},
   "outputs": [
    {
     "data": {
      "text/plain": [
       "[1,\n",
       " 1,\n",
       " 1,\n",
       " 1,\n",
       " 1,\n",
       " 1,\n",
       " 1,\n",
       " 1,\n",
       " 1,\n",
       " 1,\n",
       " 1,\n",
       " 1,\n",
       " 1,\n",
       " 1,\n",
       " 1,\n",
       " 1,\n",
       " 1,\n",
       " 1,\n",
       " 1,\n",
       " 1,\n",
       " 1,\n",
       " 1,\n",
       " 1,\n",
       " 1,\n",
       " 1,\n",
       " 1,\n",
       " 1,\n",
       " 1,\n",
       " 1]"
      ]
     },
     "execution_count": 25,
     "metadata": {},
     "output_type": "execute_result"
    }
   ],
   "source": [
    "rel_amp"
   ]
  },
  {
   "cell_type": "code",
   "execution_count": 28,
   "metadata": {},
   "outputs": [
    {
     "data": {
      "text/plain": [
       "29"
      ]
     },
     "execution_count": 28,
     "metadata": {},
     "output_type": "execute_result"
    }
   ],
   "source": [
    "len(my_list)"
   ]
  },
  {
   "cell_type": "code",
   "execution_count": 24,
   "metadata": {},
   "outputs": [
    {
     "data": {
      "text/plain": [
       "[(-0.6156622437597655-0.7880101532395957j),\n",
       " (-0.7882211230816083-0.6153921198130246j),\n",
       " (-0.9572292665641784+0.28933048790786836j),\n",
       " (0.9825099789486633+0.1862099386882912j),\n",
       " (0.3109324321533506+0.9504320189446492j),\n",
       " (0.9994252452609682+0.033899544761744595j),\n",
       " (0.8386069103265006+0.5447370466129878j),\n",
       " (-0.032044291742317745-0.9994864498164712j),\n",
       " (0.5698630910718069-0.8217396530739438j),\n",
       " (-0.22466714621705172-0.9744355665772293j),\n",
       " (0.6197938697763072-0.7847646519738959j),\n",
       " (0.8711535122365373+0.49101075152988793j),\n",
       " (0.6750803449195651+0.7377442157708055j),\n",
       " (0.855605759678558+0.5176280363396843j),\n",
       " (0.9614938679179552-0.2748263851164398j),\n",
       " (0.6246990888752946-0.7808655763691833j),\n",
       " (0.5691204311136338-0.8222541790036897j),\n",
       " (0.6985189115672094-0.7155915945446545j),\n",
       " (0.9662753052629928-0.2575112316752613j),\n",
       " (0.8912942351570123-0.4534253922927964j),\n",
       " (0.7573396297521954-0.6530211981297449j),\n",
       " (0.4377210533661603-0.8991108271175579j),\n",
       " (-0.3054020721963881-0.9522234896798925j),\n",
       " (0.6080376428579735-0.793908196750556j),\n",
       " (0.8301631594951683+0.5575205185614247j),\n",
       " (0.9537576446246947-0.3005767045530217j),\n",
       " (0.7488148662401928-0.6627792212325929j),\n",
       " (0.672607714889142-0.7399992309939293j),\n",
       " (0.24789698329799967-0.9687863983725986j)]"
      ]
     },
     "execution_count": 24,
     "metadata": {},
     "output_type": "execute_result"
    }
   ],
   "source": [
    "rel_sum"
   ]
  },
  {
   "cell_type": "code",
   "execution_count": 23,
   "metadata": {},
   "outputs": [
    {
     "data": {
      "text/plain": [
       "[1.0,\n",
       " 0.6095626397864132,\n",
       " 0.2303861988979932,\n",
       " 0.5477782308910112,\n",
       " 0.4068922536760999,\n",
       " 0.506852601228461,\n",
       " 0.24272206616416486,\n",
       " 0.6051370268667063,\n",
       " 0.573762495268401,\n",
       " 0.3473698083427609,\n",
       " 0.36363707564347264,\n",
       " 0.34584523377678333,\n",
       " 0.1708140649542447,\n",
       " 0.22552326548930088,\n",
       " 0.2862178925030214,\n",
       " 0.6410540074601627,\n",
       " 0.36335072875202246,\n",
       " 0.3966272280498231,\n",
       " 0.2525718876668975,\n",
       " 0.3481247141052962,\n",
       " 0.3299137211254991,\n",
       " 0.27022426671255456,\n",
       " 0.4011178951422974,\n",
       " 0.08681351000498078,\n",
       " 0.25801239393548037,\n",
       " 0.22961362946644207,\n",
       " 0.5285676288207943,\n",
       " 0.4293225773197312,\n",
       " 0.5857503817340823]"
      ]
     },
     "execution_count": 23,
     "metadata": {},
     "output_type": "execute_result"
    }
   ],
   "source": [
    "plv_results1"
   ]
  },
  {
   "cell_type": "code",
   "execution_count": 12,
   "metadata": {
    "scrolled": true
   },
   "outputs": [
    {
     "name": "stdout",
     "output_type": "stream",
     "text": [
      "Synchronisation Index: 0.16317359621908215\n"
     ]
    }
   ],
   "source": [
    "print(\"Synchronisation Index:\",sum(plv_results1[1:11])/len(plv_results1[1:11]))"
   ]
  },
  {
   "cell_type": "code",
   "execution_count": 13,
   "metadata": {},
   "outputs": [
    {
     "data": {
      "text/plain": [
       "(2.3530444171692713+3.9600031438897156j)"
      ]
     },
     "execution_count": 13,
     "metadata": {},
     "output_type": "execute_result"
    }
   ],
   "source": [
    "sum(rel_sum)"
   ]
  },
  {
   "cell_type": "code",
   "execution_count": 38,
   "metadata": {
    "scrolled": true
   },
   "outputs": [
    {
     "data": {
      "text/plain": [
       "{'window0': 0      0.000000\n",
       " 1     -4.374689\n",
       " 2     -0.692991\n",
       " 3      4.147685\n",
       " 4     -1.321356\n",
       "          ...   \n",
       " 145    1.381419\n",
       " 146    1.321356\n",
       " 147   -4.147685\n",
       " 148    0.692991\n",
       " 149    4.374689\n",
       " Name: Angle, Length: 150, dtype: float64,\n",
       " 'window1': 0      0.000000\n",
       " 1     -4.655705\n",
       " 2     -2.062443\n",
       " 3     -3.103837\n",
       " 4     -0.534293\n",
       "          ...   \n",
       " 145    1.858598\n",
       " 146    0.534293\n",
       " 147    3.103837\n",
       " 148    2.062443\n",
       " 149    4.655705\n",
       " Name: Angle, Length: 150, dtype: float64,\n",
       " 'window2': 0      0.000000\n",
       " 1      1.338976\n",
       " 2     -2.722491\n",
       " 3     -2.424151\n",
       " 4     -1.168734\n",
       "          ...   \n",
       " 145    1.412041\n",
       " 146    1.168734\n",
       " 147    2.424151\n",
       " 148    2.722491\n",
       " 149   -1.338976\n",
       " Name: Angle, Length: 150, dtype: float64,\n",
       " 'window3': 0      0.000000\n",
       " 1      1.007631\n",
       " 2     -4.143112\n",
       " 3      4.190837\n",
       " 4     -1.191984\n",
       "          ...   \n",
       " 145    1.393644\n",
       " 146    1.191984\n",
       " 147   -4.190837\n",
       " 148    4.143112\n",
       " 149   -1.007631\n",
       " Name: Angle, Length: 150, dtype: float64,\n",
       " 'window4': 0      0.000000\n",
       " 1      0.751564\n",
       " 2      2.170232\n",
       " 3     -2.471587\n",
       " 4     -5.501198\n",
       "          ...   \n",
       " 145    0.256415\n",
       " 146    5.501198\n",
       " 147    2.471587\n",
       " 148   -2.170232\n",
       " 149   -0.751564\n",
       " Name: Angle, Length: 150, dtype: float64,\n",
       " 'window5': 0      0.000000\n",
       " 1      0.748516\n",
       " 2      3.665035\n",
       " 3     -3.505316\n",
       " 4      0.225397\n",
       "          ...   \n",
       " 145    0.526805\n",
       " 146   -0.225397\n",
       " 147    3.505316\n",
       " 148   -3.665035\n",
       " 149   -0.748516\n",
       " Name: Angle, Length: 150, dtype: float64,\n",
       " 'window6': 0      0.000000\n",
       " 1      0.647839\n",
       " 2     -2.114449\n",
       " 3      2.093854\n",
       " 4      0.239658\n",
       "          ...   \n",
       " 145   -5.381966\n",
       " 146   -0.239658\n",
       " 147   -2.093854\n",
       " 148    2.114449\n",
       " 149   -0.647839\n",
       " Name: Angle, Length: 150, dtype: float64,\n",
       " 'window7': 0      0.000000\n",
       " 1      1.048359\n",
       " 2     -2.864494\n",
       " 3      1.857278\n",
       " 4      5.331886\n",
       "          ...   \n",
       " 145   -2.711647\n",
       " 146   -5.331886\n",
       " 147   -1.857278\n",
       " 148    2.864494\n",
       " 149   -1.048359\n",
       " Name: Angle, Length: 150, dtype: float64,\n",
       " 'window8': 0      0.000000\n",
       " 1      2.738324\n",
       " 2      3.193996\n",
       " 3     -4.336540\n",
       " 4     -0.685233\n",
       "          ...   \n",
       " 145    3.193781\n",
       " 146    0.685233\n",
       " 147    4.336540\n",
       " 148   -3.193996\n",
       " 149   -2.738324\n",
       " Name: Angle, Length: 150, dtype: float64,\n",
       " 'window9': 0      0.000000\n",
       " 1      3.083919\n",
       " 2      2.918134\n",
       " 3      2.292439\n",
       " 4     -0.892713\n",
       "          ...   \n",
       " 145   -3.493624\n",
       " 146    0.892713\n",
       " 147   -2.292439\n",
       " 148   -2.918134\n",
       " 149   -3.083919\n",
       " Name: Angle, Length: 150, dtype: float64,\n",
       " 'window10': 0      0.000000\n",
       " 1      1.246180\n",
       " 2      2.121220\n",
       " 3      0.718868\n",
       " 4     -0.883060\n",
       "          ...   \n",
       " 145    4.814554\n",
       " 146    0.883060\n",
       " 147   -0.718868\n",
       " 148   -2.121220\n",
       " 149   -1.246180\n",
       " Name: Angle, Length: 150, dtype: float64,\n",
       " 'window11': 0      0.000000\n",
       " 1      1.571426\n",
       " 2     -3.643058\n",
       " 3      2.320213\n",
       " 4     -0.547666\n",
       "          ...   \n",
       " 145   -0.169743\n",
       " 146    0.547666\n",
       " 147   -2.320213\n",
       " 148    3.643058\n",
       " 149   -1.571426\n",
       " Name: Angle, Length: 150, dtype: float64,\n",
       " 'window12': 0      0.000000\n",
       " 1      1.575235\n",
       " 2     -3.030064\n",
       " 3     -3.390310\n",
       " 4     -0.763576\n",
       "          ...   \n",
       " 145    6.087205\n",
       " 146    0.763576\n",
       " 147    3.390310\n",
       " 148    3.030064\n",
       " 149   -1.575235\n",
       " Name: Angle, Length: 150, dtype: float64,\n",
       " 'window13': 0      0.000000\n",
       " 1      2.004656\n",
       " 2     -2.471966\n",
       " 3     -2.522079\n",
       " 4     -1.141874\n",
       "          ...   \n",
       " 145    0.728845\n",
       " 146    1.141874\n",
       " 147    2.522079\n",
       " 148    2.471966\n",
       " 149   -2.004656\n",
       " Name: Angle, Length: 150, dtype: float64,\n",
       " 'window14': 0      0.000000\n",
       " 1     -3.974028\n",
       " 2      3.657048\n",
       " 3      2.349910\n",
       " 4     -1.004880\n",
       "          ...   \n",
       " 145    0.480132\n",
       " 146    1.004880\n",
       " 147   -2.349910\n",
       " 148   -3.657048\n",
       " 149    3.974028\n",
       " Name: Angle, Length: 150, dtype: float64,\n",
       " 'window15': 0      0.000000\n",
       " 1     -3.430944\n",
       " 2      1.938333\n",
       " 3     -3.327699\n",
       " 4      5.552198\n",
       "          ...   \n",
       " 145    1.216466\n",
       " 146   -5.552198\n",
       " 147    3.327699\n",
       " 148   -1.938333\n",
       " 149    3.430944\n",
       " Name: Angle, Length: 150, dtype: float64,\n",
       " 'window16': 0      0.000000\n",
       " 1     -3.476732\n",
       " 2     -4.311016\n",
       " 3      2.939636\n",
       " 4     -1.022406\n",
       "          ...   \n",
       " 145    1.548705\n",
       " 146    1.022406\n",
       " 147   -2.939636\n",
       " 148    4.311016\n",
       " 149    3.476732\n",
       " Name: Angle, Length: 150, dtype: float64,\n",
       " 'window17': 0      0.000000\n",
       " 1     -4.018712\n",
       " 2     -4.928002\n",
       " 3      3.575737\n",
       " 4      0.504554\n",
       "          ...   \n",
       " 145    0.954693\n",
       " 146   -0.504554\n",
       " 147   -3.575737\n",
       " 148    4.928002\n",
       " 149    4.018712\n",
       " Name: Angle, Length: 150, dtype: float64,\n",
       " 'window18': 0      0.000000\n",
       " 1      2.323002\n",
       " 2      1.004115\n",
       " 3     -2.516714\n",
       " 4      0.681636\n",
       "          ...   \n",
       " 145   -5.498498\n",
       " 146   -0.681636\n",
       " 147    2.516714\n",
       " 148   -1.004115\n",
       " 149   -2.323002\n",
       " Name: Angle, Length: 150, dtype: float64,\n",
       " 'window19': 0      0.000000\n",
       " 1      2.404526\n",
       " 2      1.773516\n",
       " 3      3.815221\n",
       " 4      1.959296\n",
       "          ...   \n",
       " 145    1.069641\n",
       " 146   -1.959296\n",
       " 147   -3.815221\n",
       " 148   -1.773516\n",
       " 149   -2.404526\n",
       " Name: Angle, Length: 150, dtype: float64,\n",
       " 'window20': 0      0.000000\n",
       " 1      2.414673\n",
       " 2      2.200264\n",
       " 3     -1.419227\n",
       " 4      2.258048\n",
       "          ...   \n",
       " 145   -4.675002\n",
       " 146   -2.258048\n",
       " 147    1.419227\n",
       " 148   -2.200264\n",
       " 149   -2.414673\n",
       " Name: Angle, Length: 150, dtype: float64,\n",
       " 'window21': 0      0.000000\n",
       " 1      3.008512\n",
       " 2     -0.043973\n",
       " 3     -0.849658\n",
       " 4      3.299609\n",
       "          ...   \n",
       " 145    0.431360\n",
       " 146   -3.299609\n",
       " 147    0.849658\n",
       " 148    0.043973\n",
       " 149   -3.008512\n",
       " Name: Angle, Length: 150, dtype: float64,\n",
       " 'window22': 0      0.000000\n",
       " 1      2.535522\n",
       " 2      1.085074\n",
       " 3      3.933574\n",
       " 4     -2.679559\n",
       "          ...   \n",
       " 145    0.658877\n",
       " 146    2.679559\n",
       " 147   -3.933574\n",
       " 148   -1.085074\n",
       " 149   -2.535522\n",
       " Name: Angle, Length: 150, dtype: float64,\n",
       " 'window23': 0      0.000000\n",
       " 1      2.037410\n",
       " 2      1.178547\n",
       " 3      3.499055\n",
       " 4     -2.429970\n",
       "          ...   \n",
       " 145    0.026853\n",
       " 146    2.429970\n",
       " 147   -3.499055\n",
       " 148   -1.178547\n",
       " 149   -2.037410\n",
       " Name: Angle, Length: 150, dtype: float64,\n",
       " 'window24': 0      0.000000\n",
       " 1      1.379159\n",
       " 2      0.718172\n",
       " 3     -0.979104\n",
       " 4      3.319561\n",
       "          ...   \n",
       " 145   -0.720269\n",
       " 146   -3.319561\n",
       " 147    0.979104\n",
       " 148   -0.718172\n",
       " 149   -1.379159\n",
       " Name: Angle, Length: 150, dtype: float64,\n",
       " 'window25': 0      0.000000\n",
       " 1      0.612020\n",
       " 2     -0.395306\n",
       " 3      4.444721\n",
       " 4      0.341149\n",
       "          ...   \n",
       " 145   -5.127745\n",
       " 146   -0.341149\n",
       " 147   -4.444721\n",
       " 148    0.395306\n",
       " 149   -0.612020\n",
       " Name: Angle, Length: 150, dtype: float64,\n",
       " 'window26': 0      0.000000\n",
       " 1     -0.145457\n",
       " 2      5.463218\n",
       " 3      4.656237\n",
       " 4      3.345565\n",
       "          ...   \n",
       " 145   -3.369684\n",
       " 146   -3.345565\n",
       " 147   -4.656237\n",
       " 148   -5.463218\n",
       " 149    0.145457\n",
       " Name: Angle, Length: 150, dtype: float64,\n",
       " 'window27': 0      0.000000\n",
       " 1     -0.149140\n",
       " 2     -0.488904\n",
       " 3     -1.869420\n",
       " 4     -2.266141\n",
       "          ...   \n",
       " 145   -0.418943\n",
       " 146    2.266141\n",
       " 147    1.869420\n",
       " 148    0.488904\n",
       " 149    0.149140\n",
       " Name: Angle, Length: 150, dtype: float64,\n",
       " 'window28': 0      0.000000\n",
       " 1     -0.492064\n",
       " 2     -0.026263\n",
       " 3     -2.282783\n",
       " 4      4.093322\n",
       "          ...   \n",
       " 145   -0.948745\n",
       " 146   -4.093322\n",
       " 147    2.282783\n",
       " 148    0.026263\n",
       " 149    0.492064\n",
       " Name: Angle, Length: 150, dtype: float64}"
      ]
     },
     "execution_count": 38,
     "metadata": {},
     "output_type": "execute_result"
    }
   ],
   "source": [
    "x"
   ]
  },
  {
   "cell_type": "code",
   "execution_count": 63,
   "metadata": {},
   "outputs": [
    {
     "data": {
      "text/plain": [
       "30"
      ]
     },
     "execution_count": 63,
     "metadata": {},
     "output_type": "execute_result"
    }
   ],
   "source": [
    "len(plv_results1)"
   ]
  }
 ],
 "metadata": {
  "kernelspec": {
   "display_name": "Python 3",
   "language": "python",
   "name": "python3"
  },
  "language_info": {
   "codemirror_mode": {
    "name": "ipython",
    "version": 3
   },
   "file_extension": ".py",
   "mimetype": "text/x-python",
   "name": "python",
   "nbconvert_exporter": "python",
   "pygments_lexer": "ipython3",
   "version": "3.8.3"
  }
 },
 "nbformat": 4,
 "nbformat_minor": 4
}
