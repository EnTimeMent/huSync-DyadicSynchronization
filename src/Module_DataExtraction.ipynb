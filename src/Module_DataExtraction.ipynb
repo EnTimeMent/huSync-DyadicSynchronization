{
 "cells": [
  {
   "cell_type": "markdown",
   "metadata": {},
   "source": [
    "### Import Essential Libraries"
   ]
  },
  {
   "cell_type": "code",
   "execution_count": 1,
   "metadata": {},
   "outputs": [],
   "source": [
    "import pandas as pd\n",
    "import numpy as np\n",
    "import math\n",
    "import matplotlib.pyplot as plt\n",
    "from functools import reduce"
   ]
  },
  {
   "cell_type": "markdown",
   "metadata": {},
   "source": [
    "##### Extract data from json file"
   ]
  },
  {
   "cell_type": "code",
   "execution_count": 2,
   "metadata": {},
   "outputs": [],
   "source": [
    "a=pd.read_json (r'./DataFiles/AP_BrahmsConcertPart1_File1.json')\n",
    "a.keypoints = a.keypoints.map(lambda x: x[:3])\n",
    "b=a[['image_id','keypoints']]"
   ]
  },
  {
   "cell_type": "markdown",
   "metadata": {},
   "source": [
    "##### Filter x,y, and confidence paramters by converting keypoints"
   ]
  },
  {
   "cell_type": "code",
   "execution_count": 3,
   "metadata": {},
   "outputs": [
    {
     "name": "stderr",
     "output_type": "stream",
     "text": [
      "C:\\Users\\casap\\AppData\\Local\\Temp\\ipykernel_36184\\1185701998.py:1: SettingWithCopyWarning: \n",
      "A value is trying to be set on a copy of a slice from a DataFrame.\n",
      "Try using .loc[row_indexer,col_indexer] = value instead\n",
      "\n",
      "See the caveats in the documentation: https://pandas.pydata.org/pandas-docs/stable/user_guide/indexing.html#returning-a-view-versus-a-copy\n",
      "  b[['x','y','conf']] = pd.DataFrame(b.keypoints.tolist(), index= b.index)\n",
      "C:\\Users\\casap\\AppData\\Local\\Temp\\ipykernel_36184\\1185701998.py:1: SettingWithCopyWarning: \n",
      "A value is trying to be set on a copy of a slice from a DataFrame.\n",
      "Try using .loc[row_indexer,col_indexer] = value instead\n",
      "\n",
      "See the caveats in the documentation: https://pandas.pydata.org/pandas-docs/stable/user_guide/indexing.html#returning-a-view-versus-a-copy\n",
      "  b[['x','y','conf']] = pd.DataFrame(b.keypoints.tolist(), index= b.index)\n",
      "C:\\Users\\casap\\AppData\\Local\\Temp\\ipykernel_36184\\1185701998.py:1: SettingWithCopyWarning: \n",
      "A value is trying to be set on a copy of a slice from a DataFrame.\n",
      "Try using .loc[row_indexer,col_indexer] = value instead\n",
      "\n",
      "See the caveats in the documentation: https://pandas.pydata.org/pandas-docs/stable/user_guide/indexing.html#returning-a-view-versus-a-copy\n",
      "  b[['x','y','conf']] = pd.DataFrame(b.keypoints.tolist(), index= b.index)\n"
     ]
    }
   ],
   "source": [
    "b[['x','y','conf']] = pd.DataFrame(b.keypoints.tolist(), index= b.index)"
   ]
  },
  {
   "cell_type": "markdown",
   "metadata": {},
   "source": [
    "##### This step is used to create movement limits based on range of motion of each participant. Videos should be analyzed prior to setting the limits."
   ]
  },
  {
   "cell_type": "code",
   "execution_count": 4,
   "metadata": {},
   "outputs": [],
   "source": [
    "c1=b[b['x']<165].sort_values('conf', ascending=False).drop_duplicates(['image_id']).reset_index(drop=True)\n",
    "c2=b[(b['x']<250)&(b['x']>=165)].sort_values('conf', ascending=False).drop_duplicates(['image_id']).reset_index(drop=True)\n",
    "c3=b[(b['x']<400)&(b['x']>=250)].sort_values('conf', ascending=False).drop_duplicates(['image_id']).reset_index(drop=True)\n",
    "c4=b[(b['x']<475)&(b['x']>=400)].sort_values('conf', ascending=False).drop_duplicates(['image_id']).reset_index(drop=True)\n",
    "c5=b[b['x']>=475].sort_values('conf', ascending=False).drop_duplicates(['image_id']).reset_index(drop=True)"
   ]
  },
  {
   "cell_type": "markdown",
   "metadata": {},
   "source": [
    "##### Test code to check if database has been split properly"
   ]
  },
  {
   "cell_type": "code",
   "execution_count": null,
   "metadata": {},
   "outputs": [],
   "source": [
    "if(((c1.shape[0]+c2.shape[0]+c3.shape[0]+c4.shape[0]+c5.shape[0])/5)==c1.shape[0]):\n",
    "    print(\"Perfect\")\n",
    "else:\n",
    "    print(\"Error exists\")"
   ]
  },
  {
   "cell_type": "markdown",
   "metadata": {},
   "source": [
    "## Get only frame number - to be used as an identifier"
   ]
  },
  {
   "cell_type": "code",
   "execution_count": 6,
   "metadata": {},
   "outputs": [],
   "source": [
    "c1.image_id=c1.image_id.str.split(\".\",1).str[0].astype(int)\n",
    "c2.image_id=c2.image_id.str.split(\".\",1).str[0].astype(int)\n",
    "c3.image_id=c3.image_id.str.split(\".\",1).str[0].astype(int)\n",
    "c4.image_id=c4.image_id.str.split(\".\",1).str[0].astype(int)\n",
    "c5.image_id=c5.image_id.str.split(\".\",1).str[0].astype(int)"
   ]
  },
  {
   "cell_type": "markdown",
   "metadata": {},
   "source": [
    "## Code to check if there is any missing sequence"
   ]
  },
  {
   "cell_type": "code",
   "execution_count": 72,
   "metadata": {},
   "outputs": [
    {
     "data": {
      "text/plain": [
       "array([], dtype=int64)"
      ]
     },
     "execution_count": 72,
     "metadata": {},
     "output_type": "execute_result"
    }
   ],
   "source": [
    "seq = pd.RangeIndex(c5.image_id.min(), c5.image_id.max())\n",
    "seq[~seq.isin(c5.image_id)].values"
   ]
  },
  {
   "cell_type": "code",
   "execution_count": 73,
   "metadata": {},
   "outputs": [
    {
     "data": {
      "text/plain": [
       "array([], dtype=int64)"
      ]
     },
     "execution_count": 73,
     "metadata": {},
     "output_type": "execute_result"
    }
   ],
   "source": [
    "seq = pd.RangeIndex(c4.image_id.min(), c4.image_id.max())\n",
    "seq[~seq.isin(c4.image_id)].values"
   ]
  },
  {
   "cell_type": "code",
   "execution_count": 74,
   "metadata": {},
   "outputs": [
    {
     "data": {
      "text/plain": [
       "array([], dtype=int64)"
      ]
     },
     "execution_count": 74,
     "metadata": {},
     "output_type": "execute_result"
    }
   ],
   "source": [
    "seq = pd.RangeIndex(c3.image_id.min(), c3.image_id.max())\n",
    "seq[~seq.isin(c3.image_id)].values"
   ]
  },
  {
   "cell_type": "code",
   "execution_count": 75,
   "metadata": {},
   "outputs": [
    {
     "data": {
      "text/plain": [
       "array([], dtype=int64)"
      ]
     },
     "execution_count": 75,
     "metadata": {},
     "output_type": "execute_result"
    }
   ],
   "source": [
    "seq = pd.RangeIndex(c2.image_id.min(), c2.image_id.max())\n",
    "seq[~seq.isin(c2.image_id)].values"
   ]
  },
  {
   "cell_type": "code",
   "execution_count": 76,
   "metadata": {},
   "outputs": [
    {
     "data": {
      "text/plain": [
       "array([], dtype=int64)"
      ]
     },
     "execution_count": 76,
     "metadata": {},
     "output_type": "execute_result"
    }
   ],
   "source": [
    "seq = pd.RangeIndex(c1.image_id.min(), c1.image_id.max())\n",
    "seq[~seq.isin(c1.image_id)].values"
   ]
  },
  {
   "cell_type": "markdown",
   "metadata": {},
   "source": [
    "## Merge all dataframes"
   ]
  },
  {
   "cell_type": "code",
   "execution_count": 7,
   "metadata": {},
   "outputs": [
    {
     "name": "stderr",
     "output_type": "stream",
     "text": [
      "C:\\Users\\casap\\AppData\\Local\\Temp\\ipykernel_36184\\3683076672.py:1: FutureWarning: Passing 'suffixes' which cause duplicate columns {'y_y', 'x_y', 'conf_y', 'keypoints_y'} in the result is deprecated and will raise a MergeError in a future version.\n",
      "  cPreFinal=c1.merge(c2.merge(c3.merge(c4.merge(c5,on='image_id',how='inner'),on='image_id',how='inner'),on='image_id',how='inner'),on='image_id',how='inner')\n"
     ]
    }
   ],
   "source": [
    "cPreFinal=c1.merge(c2.merge(c3.merge(c4.merge(c5,on='image_id',how='inner'),on='image_id',how='inner'),on='image_id',how='inner'),on='image_id',how='inner')\n",
    "cPreFinal.columns=['image_id','c1_keypoints','c1_x','c1_y','c1_conf'\n",
    "                  ,'c2_keypoints','c2_x','c2_y','c2_conf'\n",
    "                  ,'c3_keypoints','c3_x','c3_y','c3_conf'\n",
    "                  ,'c4_keypoints','c4_x','c4_y','c4_conf'\n",
    "                  ,'c5_keypoints','c5_x','c5_y','c5_conf']\n",
    "cFinal=cPreFinal[['image_id','c1_x','c1_y','c2_x','c2_y','c3_x','c3_y','c4_x','c4_y','c5_x','c5_y']].sort_values(by='image_id').reset_index(drop=True)"
   ]
  },
  {
   "cell_type": "markdown",
   "metadata": {},
   "source": [
    "## Compute Time, Distance, Velocity, and Acceleration "
   ]
  },
  {
   "cell_type": "markdown",
   "metadata": {},
   "source": [
    "### Time"
   ]
  },
  {
   "cell_type": "code",
   "execution_count": 8,
   "metadata": {},
   "outputs": [],
   "source": [
    "t_interval=0.0333333333333333"
   ]
  },
  {
   "cell_type": "code",
   "execution_count": 9,
   "metadata": {},
   "outputs": [],
   "source": [
    "for i,rows in cFinal.iterrows():\n",
    "    if(i==0):\n",
    "        cFinal.loc[i, 't'] = 0\n",
    "    else:\n",
    "        cFinal.loc[i,'t'] = cFinal.loc[i-1,'t'] + t_interval;"
   ]
  },
  {
   "cell_type": "markdown",
   "metadata": {},
   "source": [
    "# In order to make changes to the total number of rows a multiple of 15 & 3."
   ]
  },
  {
   "cell_type": "markdown",
   "metadata": {},
   "source": [
    "### Very important step since for our use case we are testing the start, middle, and end of phrases. If required, this code can be used to trim the dataframe to make it a multiple of 15 & 3"
   ]
  },
  {
   "cell_type": "code",
   "execution_count": 15,
   "metadata": {},
   "outputs": [],
   "source": [
    "cFinal=cFinal[0:549]"
   ]
  },
  {
   "cell_type": "code",
   "execution_count": 16,
   "metadata": {},
   "outputs": [
    {
     "data": {
      "text/html": [
       "<div>\n",
       "<style scoped>\n",
       "    .dataframe tbody tr th:only-of-type {\n",
       "        vertical-align: middle;\n",
       "    }\n",
       "\n",
       "    .dataframe tbody tr th {\n",
       "        vertical-align: top;\n",
       "    }\n",
       "\n",
       "    .dataframe thead th {\n",
       "        text-align: right;\n",
       "    }\n",
       "</style>\n",
       "<table border=\"1\" class=\"dataframe\">\n",
       "  <thead>\n",
       "    <tr style=\"text-align: right;\">\n",
       "      <th></th>\n",
       "      <th>image_id</th>\n",
       "      <th>c1_x</th>\n",
       "      <th>c1_y</th>\n",
       "      <th>c2_x</th>\n",
       "      <th>c2_y</th>\n",
       "      <th>c3_x</th>\n",
       "      <th>c3_y</th>\n",
       "      <th>c4_x</th>\n",
       "      <th>c4_y</th>\n",
       "      <th>c5_x</th>\n",
       "      <th>c5_y</th>\n",
       "      <th>t</th>\n",
       "    </tr>\n",
       "  </thead>\n",
       "  <tbody>\n",
       "    <tr>\n",
       "      <th>0</th>\n",
       "      <td>0</td>\n",
       "      <td>115.195282</td>\n",
       "      <td>218.366531</td>\n",
       "      <td>204.472473</td>\n",
       "      <td>222.705566</td>\n",
       "      <td>350.922516</td>\n",
       "      <td>217.265533</td>\n",
       "      <td>458.661499</td>\n",
       "      <td>211.814560</td>\n",
       "      <td>541.797852</td>\n",
       "      <td>213.232773</td>\n",
       "      <td>0.000000</td>\n",
       "    </tr>\n",
       "    <tr>\n",
       "      <th>1</th>\n",
       "      <td>1</td>\n",
       "      <td>114.755905</td>\n",
       "      <td>219.640488</td>\n",
       "      <td>203.437317</td>\n",
       "      <td>221.983002</td>\n",
       "      <td>350.936584</td>\n",
       "      <td>217.110672</td>\n",
       "      <td>457.244049</td>\n",
       "      <td>211.501221</td>\n",
       "      <td>540.319763</td>\n",
       "      <td>214.812668</td>\n",
       "      <td>0.033333</td>\n",
       "    </tr>\n",
       "    <tr>\n",
       "      <th>2</th>\n",
       "      <td>2</td>\n",
       "      <td>114.354630</td>\n",
       "      <td>218.721878</td>\n",
       "      <td>203.958145</td>\n",
       "      <td>221.870529</td>\n",
       "      <td>350.785492</td>\n",
       "      <td>217.054306</td>\n",
       "      <td>458.187622</td>\n",
       "      <td>209.169586</td>\n",
       "      <td>537.758301</td>\n",
       "      <td>216.730225</td>\n",
       "      <td>0.066667</td>\n",
       "    </tr>\n",
       "    <tr>\n",
       "      <th>3</th>\n",
       "      <td>3</td>\n",
       "      <td>114.560234</td>\n",
       "      <td>218.824707</td>\n",
       "      <td>204.310364</td>\n",
       "      <td>222.105301</td>\n",
       "      <td>350.882629</td>\n",
       "      <td>216.902542</td>\n",
       "      <td>459.209259</td>\n",
       "      <td>209.548096</td>\n",
       "      <td>535.944641</td>\n",
       "      <td>217.899170</td>\n",
       "      <td>0.100000</td>\n",
       "    </tr>\n",
       "    <tr>\n",
       "      <th>4</th>\n",
       "      <td>4</td>\n",
       "      <td>115.184525</td>\n",
       "      <td>217.648193</td>\n",
       "      <td>204.625656</td>\n",
       "      <td>222.507294</td>\n",
       "      <td>350.813690</td>\n",
       "      <td>217.328583</td>\n",
       "      <td>459.625763</td>\n",
       "      <td>206.986847</td>\n",
       "      <td>532.380676</td>\n",
       "      <td>217.271835</td>\n",
       "      <td>0.133333</td>\n",
       "    </tr>\n",
       "    <tr>\n",
       "      <th>...</th>\n",
       "      <td>...</td>\n",
       "      <td>...</td>\n",
       "      <td>...</td>\n",
       "      <td>...</td>\n",
       "      <td>...</td>\n",
       "      <td>...</td>\n",
       "      <td>...</td>\n",
       "      <td>...</td>\n",
       "      <td>...</td>\n",
       "      <td>...</td>\n",
       "      <td>...</td>\n",
       "      <td>...</td>\n",
       "    </tr>\n",
       "    <tr>\n",
       "      <th>544</th>\n",
       "      <td>545</td>\n",
       "      <td>122.406731</td>\n",
       "      <td>220.021759</td>\n",
       "      <td>181.548233</td>\n",
       "      <td>223.023514</td>\n",
       "      <td>337.539215</td>\n",
       "      <td>218.758698</td>\n",
       "      <td>464.142761</td>\n",
       "      <td>210.056946</td>\n",
       "      <td>510.607178</td>\n",
       "      <td>214.508163</td>\n",
       "      <td>18.133333</td>\n",
       "    </tr>\n",
       "    <tr>\n",
       "      <th>545</th>\n",
       "      <td>546</td>\n",
       "      <td>120.731102</td>\n",
       "      <td>221.109299</td>\n",
       "      <td>181.980667</td>\n",
       "      <td>223.630920</td>\n",
       "      <td>337.374237</td>\n",
       "      <td>219.012054</td>\n",
       "      <td>463.297791</td>\n",
       "      <td>209.573578</td>\n",
       "      <td>514.179382</td>\n",
       "      <td>214.502045</td>\n",
       "      <td>18.166667</td>\n",
       "    </tr>\n",
       "    <tr>\n",
       "      <th>546</th>\n",
       "      <td>547</td>\n",
       "      <td>116.968262</td>\n",
       "      <td>220.678528</td>\n",
       "      <td>181.930206</td>\n",
       "      <td>224.004303</td>\n",
       "      <td>336.632751</td>\n",
       "      <td>218.734299</td>\n",
       "      <td>463.395081</td>\n",
       "      <td>209.971832</td>\n",
       "      <td>515.921143</td>\n",
       "      <td>212.802582</td>\n",
       "      <td>18.200000</td>\n",
       "    </tr>\n",
       "    <tr>\n",
       "      <th>547</th>\n",
       "      <td>548</td>\n",
       "      <td>120.688469</td>\n",
       "      <td>220.173767</td>\n",
       "      <td>181.210419</td>\n",
       "      <td>225.002396</td>\n",
       "      <td>336.503540</td>\n",
       "      <td>219.004944</td>\n",
       "      <td>463.340454</td>\n",
       "      <td>208.879608</td>\n",
       "      <td>519.962280</td>\n",
       "      <td>212.177780</td>\n",
       "      <td>18.233333</td>\n",
       "    </tr>\n",
       "    <tr>\n",
       "      <th>548</th>\n",
       "      <td>549</td>\n",
       "      <td>120.470741</td>\n",
       "      <td>219.949371</td>\n",
       "      <td>182.539505</td>\n",
       "      <td>224.905609</td>\n",
       "      <td>336.523621</td>\n",
       "      <td>218.910873</td>\n",
       "      <td>463.333069</td>\n",
       "      <td>208.556351</td>\n",
       "      <td>520.027588</td>\n",
       "      <td>212.084213</td>\n",
       "      <td>18.266667</td>\n",
       "    </tr>\n",
       "  </tbody>\n",
       "</table>\n",
       "<p>549 rows × 12 columns</p>\n",
       "</div>"
      ],
      "text/plain": [
       "     image_id        c1_x        c1_y        c2_x        c2_y        c3_x  \\\n",
       "0           0  115.195282  218.366531  204.472473  222.705566  350.922516   \n",
       "1           1  114.755905  219.640488  203.437317  221.983002  350.936584   \n",
       "2           2  114.354630  218.721878  203.958145  221.870529  350.785492   \n",
       "3           3  114.560234  218.824707  204.310364  222.105301  350.882629   \n",
       "4           4  115.184525  217.648193  204.625656  222.507294  350.813690   \n",
       "..        ...         ...         ...         ...         ...         ...   \n",
       "544       545  122.406731  220.021759  181.548233  223.023514  337.539215   \n",
       "545       546  120.731102  221.109299  181.980667  223.630920  337.374237   \n",
       "546       547  116.968262  220.678528  181.930206  224.004303  336.632751   \n",
       "547       548  120.688469  220.173767  181.210419  225.002396  336.503540   \n",
       "548       549  120.470741  219.949371  182.539505  224.905609  336.523621   \n",
       "\n",
       "           c3_y        c4_x        c4_y        c5_x        c5_y          t  \n",
       "0    217.265533  458.661499  211.814560  541.797852  213.232773   0.000000  \n",
       "1    217.110672  457.244049  211.501221  540.319763  214.812668   0.033333  \n",
       "2    217.054306  458.187622  209.169586  537.758301  216.730225   0.066667  \n",
       "3    216.902542  459.209259  209.548096  535.944641  217.899170   0.100000  \n",
       "4    217.328583  459.625763  206.986847  532.380676  217.271835   0.133333  \n",
       "..          ...         ...         ...         ...         ...        ...  \n",
       "544  218.758698  464.142761  210.056946  510.607178  214.508163  18.133333  \n",
       "545  219.012054  463.297791  209.573578  514.179382  214.502045  18.166667  \n",
       "546  218.734299  463.395081  209.971832  515.921143  212.802582  18.200000  \n",
       "547  219.004944  463.340454  208.879608  519.962280  212.177780  18.233333  \n",
       "548  218.910873  463.333069  208.556351  520.027588  212.084213  18.266667  \n",
       "\n",
       "[549 rows x 12 columns]"
      ]
     },
     "execution_count": 16,
     "metadata": {},
     "output_type": "execute_result"
    }
   ],
   "source": [
    "cFinal"
   ]
  },
  {
   "cell_type": "markdown",
   "metadata": {},
   "source": [
    "## Create DB"
   ]
  },
  {
   "cell_type": "code",
   "execution_count": null,
   "metadata": {},
   "outputs": [],
   "source": [
    "path_createDB='./BrahmsConcertPart2/KeypointData/BrahmsConcertPart2_File18.csv'"
   ]
  },
  {
   "cell_type": "code",
   "execution_count": 1170,
   "metadata": {},
   "outputs": [],
   "source": [
    "cFinal.to_csv(path_createDB)"
   ]
  }
 ],
 "metadata": {
  "kernelspec": {
   "display_name": "Python 3 (ipykernel)",
   "language": "python",
   "name": "python3"
  },
  "language_info": {
   "codemirror_mode": {
    "name": "ipython",
    "version": 3
   },
   "file_extension": ".py",
   "mimetype": "text/x-python",
   "name": "python",
   "nbconvert_exporter": "python",
   "pygments_lexer": "ipython3",
   "version": "3.8.5"
  }
 },
 "nbformat": 4,
 "nbformat_minor": 4
}
